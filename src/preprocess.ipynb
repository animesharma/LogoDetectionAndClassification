{
 "cells": [
  {
   "cell_type": "code",
   "execution_count": 12,
   "metadata": {},
   "outputs": [],
   "source": [
    "import os\n",
    "from PIL import Image\n",
    "from shutil import copy2"
   ]
  },
  {
   "cell_type": "code",
   "execution_count": 13,
   "metadata": {},
   "outputs": [],
   "source": [
    "dataset_base_path = \"../og_dataset/\"\n",
    "mask_class_path = os.path.join(dataset_base_path, \"classes/masks/\")\n",
    "image_base_path = os.path.join(dataset_base_path, \"classes/jpg/\")\n",
    "trainset_file_names_path = os.path.join(dataset_base_path, \"trainset.filenames.txt\")\n",
    "testset_file_names_path = os.path.join(dataset_base_path, \"testset.filenames.txt\")\n",
    "testset_nologo_files_path = os.path.join(dataset_base_path, \"testset-nologos.relpaths.txt\")\n",
    "valset_file_names_path = os.path.join(dataset_base_path, \"valset.filenames.txt\")\n",
    "valset_nologo_files_path = os.path.join(dataset_base_path, \"valset-nologos.relpaths.txt\")\n",
    "yolo_output_base_path = \"../yolo_dataset/\"\n",
    "rcnn_output_base_path = \"../rcnn_dataset/\"\n"
   ]
  },
  {
   "cell_type": "code",
   "execution_count": 14,
   "metadata": {},
   "outputs": [],
   "source": [
    "def convert_to_yolo_format(image_width, image_height, bbox_x1, bbox_y1, bbox_width, bbox_height):\n",
    "    \"\"\"\n",
    "    Function to convert the Flickr-32 bounding box annotation to the YOLO format\n",
    "    \"\"\"\n",
    "    bbox_x2 = bbox_x1 + bbox_width\n",
    "    bbox_y2 = bbox_y1 + bbox_height\n",
    "    bbox_cx = (bbox_x1 + bbox_x2) // 2\n",
    "    bbox_cy = (bbox_y1 + bbox_y2) // 2\n",
    "\n",
    "    yolo_x = bbox_cx / image_width\n",
    "    yolo_y = bbox_cy / image_height\n",
    "    yolo_width = bbox_width / image_width\n",
    "    yolo_height = bbox_height / image_height\n",
    "    \n",
    "    return(yolo_x, yolo_y, yolo_width, yolo_height)"
   ]
  },
  {
   "cell_type": "code",
   "execution_count": 15,
   "metadata": {},
   "outputs": [],
   "source": [
    "def convert_to_rcnn_format(bbox_x1, bbox_y1, bbox_width, bbox_height):\n",
    "    \"\"\"\n",
    "    Function to convert the Flickr-32 bounding box annotation to the R-CNN format\n",
    "    \"\"\"\n",
    "    bbox_x2 = bbox_x1 + bbox_width\n",
    "    bbox_y2 = bbox_y1 + bbox_height\n",
    "    return(bbox_x1, bbox_y1, bbox_x2, bbox_y2)"
   ]
  },
  {
   "cell_type": "code",
   "execution_count": 16,
   "metadata": {},
   "outputs": [],
   "source": [
    "def get_bb_annotations(text_file_path):\n",
    "    \"\"\"\n",
    "    Function to get the bounding box annotations for each file in the Flickr-32 dataset\n",
    "    \"\"\"\n",
    "    bb_annotations = []\n",
    "    with open(text_file_path) as f:\n",
    "        lines = f.readlines()\n",
    "        for line in lines[1:]:\n",
    "            bbox_x1, bbox_y1, bbox_width, bbox_height = line.split(\" \")\n",
    "            bb_annotations.append([int(bbox_x1), int(bbox_y1), int(bbox_width), int(bbox_height)])\n",
    "        return bb_annotations"
   ]
  },
  {
   "cell_type": "code",
   "execution_count": 17,
   "metadata": {},
   "outputs": [
    {
     "name": "stdout",
     "output_type": "stream",
     "text": [
      "{1: 'adidas', 2: 'aldi', 3: 'apple', 4: 'becks', 5: 'bmw', 6: 'carlsberg', 7: 'chimay', 8: 'cocacola', 9: 'corona', 10: 'dhl', 11: 'erdinger', 12: 'esso', 13: 'fedex', 14: 'ferrari', 15: 'ford', 16: 'fosters', 17: 'google', 18: 'guiness', 19: 'heineken', 20: 'hp', 21: 'milka', 22: 'nvidia', 23: 'paulaner', 24: 'pepsi', 25: 'rittersport', 26: 'shell', 27: 'singha', 28: 'starbucks', 29: 'stellaartois', 30: 'texaco', 31: 'tsingtao', 32: 'ups'}\n",
      "{'adidas': 1, 'aldi': 2, 'apple': 3, 'becks': 4, 'bmw': 5, 'carlsberg': 6, 'chimay': 7, 'cocacola': 8, 'corona': 9, 'dhl': 10, 'erdinger': 11, 'esso': 12, 'fedex': 13, 'ferrari': 14, 'ford': 15, 'fosters': 16, 'google': 17, 'guiness': 18, 'heineken': 19, 'hp': 20, 'milka': 21, 'nvidia': 22, 'paulaner': 23, 'pepsi': 24, 'rittersport': 25, 'shell': 26, 'singha': 27, 'starbucks': 28, 'stellaartois': 29, 'texaco': 30, 'tsingtao': 31, 'ups': 32}\n"
     ]
    }
   ],
   "source": [
    "# Forward and Reverse Lookup Table for Class Label <-> Class Name\n",
    "class_names = next(os.walk(mask_class_path))[1]\n",
    "label_class_dict = {index + 1 : class_name for index, class_name in enumerate(class_names)}\n",
    "class_label_dict = {class_name : index + 1 for index, class_name in enumerate(class_names)}\n",
    "print(label_class_dict)\n",
    "print(class_label_dict)"
   ]
  },
  {
   "cell_type": "code",
   "execution_count": 18,
   "metadata": {},
   "outputs": [],
   "source": [
    "def get_id_set(file_path):\n",
    "    \"\"\"\n",
    "    Function to get a set of file identifiers belonging to a particular split (train / validaion / test)\n",
    "    \"\"\"\n",
    "    with open(file_path) as f:\n",
    "        lines = f.readlines()\n",
    "    file_id_set = {line.split(\".\")[0] for line in lines}\n",
    "    return file_id_set"
   ]
  },
  {
   "cell_type": "code",
   "execution_count": 19,
   "metadata": {},
   "outputs": [],
   "source": [
    "trainset_file_ids = get_id_set(trainset_file_names_path)\n",
    "valset_file_ids = get_id_set(valset_file_names_path)\n",
    "testset_file_ids = get_id_set(testset_file_names_path)"
   ]
  },
  {
   "cell_type": "code",
   "execution_count": 20,
   "metadata": {},
   "outputs": [],
   "source": [
    "def get_save_path(file_identifier, annotation_format):\n",
    "    \"\"\"\n",
    "    Function to get the save path of a file\n",
    "    \"\"\"\n",
    "    base_save_path = yolo_output_base_path if annotation_format == \"YOLO\" else rcnn_output_base_path\n",
    "    if file_identifier in trainset_file_ids:\n",
    "        return os.path.join(base_save_path, \"train\", \"\")\n",
    "    elif file_identifier in valset_file_ids:\n",
    "        return os.path.join(base_save_path, \"validation\", \"\")\n",
    "    elif file_identifier in testset_file_ids:\n",
    "        return os.path.join(base_save_path, \"test\", \"\")\n"
   ]
  },
  {
   "cell_type": "code",
   "execution_count": 21,
   "metadata": {},
   "outputs": [],
   "source": [
    "def save_file(image_file_path, file_identifier, class_label, annotations, annotation_format):\n",
    "    \"\"\"\n",
    "    Function to copy the image and it's YOLO annotations to the correct split location (train / validate / test)\n",
    "    \"\"\"\n",
    "    save_path = get_save_path(file_identifier, annotation_format)\n",
    "    if not os.path.exists(save_path):\n",
    "        os.makedirs(save_path)\n",
    "        \n",
    "    copy2(image_file_path, save_path)\n",
    "    annotation_file_path = os.path.join(save_path, file_identifier + \".txt\")\n",
    "    with open(annotation_file_path, \"w\") as f:\n",
    "        for annotation in annotations:\n",
    "            if annotation_format == \"YOLO\":\n",
    "                annotation_list = [1]\n",
    "                annotation_list.extend(annotation)\n",
    "            elif annotation_format == \"R-CNN\":\n",
    "                annotation_list = list(annotation)\n",
    "                annotation_list.append(1)\n",
    "\n",
    "            annotation_list = [str(item) for item in annotation_list]\n",
    "            annotation_line = \" \".join(annotation_list)\n",
    "            annotation_line += \"\\n\"\n",
    "            f.write(annotation_line)"
   ]
  },
  {
   "cell_type": "code",
   "execution_count": 22,
   "metadata": {},
   "outputs": [],
   "source": [
    "for root, dirs, files in os.walk(mask_class_path):\n",
    "    for file in files:\n",
    "        if file.endswith(\".txt\"):\n",
    "            class_name = root.split(\"/\")[-1]\n",
    "            class_label = class_label_dict[class_name]\n",
    "\n",
    "            bb_annotation_file_path = os.path.join(root, file)\n",
    "            file_identifier = file.split(\".\")[0]\n",
    "            \n",
    "            image_file_path = os.path.join(image_base_path, class_name, file_identifier + \".jpg\")\n",
    "            image_width, image_height = Image.open(image_file_path).size\n",
    "            bb_annotations = get_bb_annotations(bb_annotation_file_path)\n",
    "            yolo_annotations = []\n",
    "            rcnn_annotations = []\n",
    "            for bb_annotation in bb_annotations: \n",
    "                bbox_x1, bbox_y1, bbox_width, bbox_height = bb_annotation\n",
    "                yolo_annotations.append(convert_to_yolo_format(image_width, image_height, bbox_x1, bbox_y1, bbox_width, bbox_height))\n",
    "                rcnn_annotations.append(convert_to_rcnn_format(bbox_x1, bbox_y1, bbox_width, bbox_height))\n",
    "\n",
    "            save_file(image_file_path, file_identifier, class_label, yolo_annotations, \"YOLO\")\n",
    "            save_file(image_file_path, file_identifier, class_label, rcnn_annotations, \"R-CNN\")"
   ]
  },
  {
   "cell_type": "code",
   "execution_count": 23,
   "metadata": {},
   "outputs": [],
   "source": [
    "# Add the No Logo files to the respective split\n",
    "with open(os.path.join(valset_nologo_files_path)) as f:\n",
    "    valset_no_logo_paths = [os.path.join(dataset_base_path, line.strip(\"\\n\")) for line in f.readlines()]\n",
    "for file_path in valset_no_logo_paths:\n",
    "    copy2(file_path, os.path.join(yolo_output_base_path, \"validation\", \"\"))\n",
    "    copy2(file_path, os.path.join(rcnn_output_base_path, \"validation\", \"\"))\n",
    "\n",
    "with open(os.path.join(testset_nologo_files_path)) as f:\n",
    "    testset_no_logo_paths = [os.path.join(dataset_base_path, line.strip(\"\\n\")) for line in f.readlines()]\n",
    "for file_path in testset_no_logo_paths:\n",
    "    copy2(file_path, os.path.join(yolo_output_base_path, \"test\", \"\"))\n",
    "    copy2(file_path, os.path.join(rcnn_output_base_path, \"test\", \"\"))\n"
   ]
  }
 ],
 "metadata": {
  "kernelspec": {
   "display_name": "Python 3.10.7 ('env': venv)",
   "language": "python",
   "name": "python3"
  },
  "language_info": {
   "codemirror_mode": {
    "name": "ipython",
    "version": 3
   },
   "file_extension": ".py",
   "mimetype": "text/x-python",
   "name": "python",
   "nbconvert_exporter": "python",
   "pygments_lexer": "ipython3",
   "version": "3.10.7"
  },
  "orig_nbformat": 4,
  "vscode": {
   "interpreter": {
    "hash": "6211f9ae34f120892742db659eaa08b6ca07780761750be1236caa40db1a4cff"
   }
  }
 },
 "nbformat": 4,
 "nbformat_minor": 2
}
